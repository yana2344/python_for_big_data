{
  "cells": [
    {
      "cell_type": "markdown",
      "metadata": {
        "id": "5qV_sehzFCTp"
      },
      "source": [
        "# I. OOP"
      ]
    },
    {
      "cell_type": "markdown",
      "metadata": {
        "id": "tx_U_hOALyfg"
      },
      "source": [
        "1. (6б). Створіть клас Building, додайте три атрибути, один з яких має значення за замовчуванням та два методи на свій розсуд."
      ]
    },
    {
      "cell_type": "code",
      "execution_count": 1,
      "metadata": {
        "id": "-Vf895KaL88N"
      },
      "outputs": [],
      "source": [
        "class Building:\n",
        "    def __init__(self, address, floors, material='brick'):\n",
        "        self.address = address\n",
        "        self.floors = floors\n",
        "        self.material = material\n",
        "\n",
        "    def describe(self):\n",
        "        print(f\"Будівля за адресою {self.address}, {self.floors} поверхів, матеріал: {self.material}.\")\n",
        "\n",
        "    def is_high_rise(self):\n",
        "        return self.floors >= 10"
      ]
    },
    {
      "cell_type": "markdown",
      "metadata": {
        "id": "X_UlOMB0L93w"
      },
      "source": [
        "2. (2б). Створіть два обʼєкти цього класу, де один з обʼєктів створюється із дефолтним значенням атрибуту. На одному обʼєкті отримайте значення його атрибуту, а на іншому викличте один з його методів."
      ]
    },
    {
      "cell_type": "code",
      "execution_count": 4,
      "metadata": {
        "id": "7gBu0ESOMCpG"
      },
      "outputs": [
        {
          "name": "stdout",
          "output_type": "stream",
          "text": [
            "Матеріал будівлі 1: brick\n",
            "Будівля за адресою вул. Шевченка, 5, 12 поверхів, матеріал: бетон.\n",
            "Будівля за адресою вул. Садова, 10, 8 поверхів, матеріал: brick.\n"
          ]
        }
      ],
      "source": [
        "building1 = Building(\"вул. Садова, 10\", 8) \n",
        "building2 = Building(\"вул. Шевченка, 5\", 12, \"бетон\")\n",
        "\n",
        "\n",
        "print(\"Матеріал будівлі 1:\", building1.material)\n",
        "\n",
        "\n",
        "building2.describe()\n",
        "building1.describe()"
      ]
    },
    {
      "cell_type": "markdown",
      "metadata": {
        "id": "HoqSCZt1MHn5"
      },
      "source": [
        "3. (5б). Створіть клас, де атрибути мають різні рівні доступу. Спробуйте отримати їхні значення та опишіть результати."
      ]
    },
    {
      "cell_type": "code",
      "execution_count": 5,
      "metadata": {
        "id": "r9b3vJxBMSPV"
      },
      "outputs": [
        {
          "name": "stdout",
          "output_type": "stream",
          "text": [
            "This is a public attribute\n",
            "This is a protected attribute\n"
          ]
        },
        {
          "ename": "AttributeError",
          "evalue": "'MyClass' object has no attribute '__private_attribute'",
          "output_type": "error",
          "traceback": [
            "\u001b[31m---------------------------------------------------------------------------\u001b[39m",
            "\u001b[31mAttributeError\u001b[39m                            Traceback (most recent call last)",
            "\u001b[36mCell\u001b[39m\u001b[36m \u001b[39m\u001b[32mIn[5]\u001b[39m\u001b[32m, line 10\u001b[39m\n\u001b[32m      8\u001b[39m \u001b[38;5;28mprint\u001b[39m(my_object.public_attribute)\n\u001b[32m      9\u001b[39m \u001b[38;5;28mprint\u001b[39m(my_object._protected_attribute)\n\u001b[32m---> \u001b[39m\u001b[32m10\u001b[39m \u001b[38;5;28mprint\u001b[39m(\u001b[43mmy_object\u001b[49m\u001b[43m.\u001b[49m\u001b[43m__private_attribute\u001b[49m)\n",
            "\u001b[31mAttributeError\u001b[39m: 'MyClass' object has no attribute '__private_attribute'"
          ]
        }
      ],
      "source": [
        "class MyClass:\n",
        "    def __init__(self):\n",
        "        self.public_attribute = \"This is a public attribute\"\n",
        "        self._protected_attribute = \"This is a protected attribute\"\n",
        "        self.__private_attribute = \"This is a private attribute\"\n",
        "        \n",
        "my_object = MyClass()\n",
        "print(my_object.public_attribute)\n",
        "print(my_object._protected_attribute)\n",
        "print(my_object.__private_attribute)\n",
        "\n",
        "# Якщо я пробую отримати доступ до приватного атрибута виникає помилка, тому що Python автоматично перейменовує приватні атрибути, які починаються з двох підкреслень __, щоб захистити їх від випадкового доступу ззовні."
      ]
    },
    {
      "cell_type": "markdown",
      "metadata": {
        "id": "5op2m2vgMSkZ"
      },
      "source": [
        "4. (7б). Як ви розумієте термін self? Для чого використовується метод __init __?"
      ]
    },
    {
      "cell_type": "markdown",
      "metadata": {
        "id": "DyiPqNRvMasx"
      },
      "source": [
        "self - це посилання на конкретний екземпляр класу, __init __ - це Метод-конструктор, викликається автоматично при створенні обʼєкта, використовується для ініціалізації (встановлення) початкових значень для атрибутів обʼєкта. "
      ]
    },
    {
      "cell_type": "markdown",
      "metadata": {
        "id": "-6X8EGfjMd2y"
      },
      "source": [
        "5. (9б). Створіть клас 3D-фігура без атрибутів, з методом get_volume для отримання об'єму фігури, що повертає 0 та __add __, який приймає self та other в якості аргументів, а повертає суму об'ємів 3d-фігур self та other."
      ]
    },
    {
      "cell_type": "code",
      "execution_count": 6,
      "metadata": {
        "id": "4rvO_wYUMaEr"
      },
      "outputs": [],
      "source": [
        "import math\n",
        "class ThreeDFigure:\n",
        "    def get_volume(self):\n",
        "        return 0\n",
        "    \n",
        "    def __add__(self, other):\n",
        "        if isinstance(other, ThreeDFigure):\n",
        "            # Повертаємо суму об'ємів об'єктів\n",
        "            return self.get_volume() + other.get_volume()\n",
        "        return NotImplemented\n",
        "\n",
        "\n"
      ]
    },
    {
      "cell_type": "markdown",
      "metadata": {
        "id": "SFcKnnv5Mo_z"
      },
      "source": [
        "6. (11б). Створіть 2 дочірніх класи від 3d-фігура: Циліндр та Куб, які мають атрибути, необхідні для розрахунку об'єму. Визначте метод get_volume в кожному з них так, щоби вони розраховували об'єм у залежності від формули для кожного типу фігури. Створіть обʼєкт класу Циліндр та обʼєкт класу Куб. Виконайте операцію суми за допомогою оператора + між ними, аби знайти сумарний об'єм."
      ]
    },
    {
      "cell_type": "code",
      "execution_count": 11,
      "metadata": {
        "id": "H3GVNr69Muf3"
      },
      "outputs": [
        {
          "name": "stdout",
          "output_type": "stream",
          "text": [
            "Обʼєм куба: 64.00\n",
            "Обʼєм циліндра: 6361.73\n",
            "Сумарний обʼєм: 6425.73\n"
          ]
        }
      ],
      "source": [
        "import math\n",
        "\n",
        "class Cube(ThreeDFigure):\n",
        "    def __init__(self, side):\n",
        "        self.side = side\n",
        "\n",
        "    def get_volume(self):\n",
        "        return self.side ** 3\n",
        "\n",
        "class Cylinder(ThreeDFigure):\n",
        "    def __init__(self, radius, height):\n",
        "        self.radius = radius\n",
        "        self.height = height\n",
        "\n",
        "    def get_volume(self):\n",
        "        return math.pi * self.radius ** 2 * self.height\n",
        "\n",
        "\n",
        "cube = Cube(4)        \n",
        "cylinder = Cylinder(9, 25) \n",
        "\n",
        "\n",
        "total_volume = cube + cylinder\n",
        "\n",
        "\n",
        "print(f\"Обʼєм куба: {cube.get_volume():.2f}\")\n",
        "print(f\"Обʼєм циліндра: {cylinder.get_volume():.2f}\")\n",
        "print(f\"Сумарний обʼєм: {total_volume:.2f}\")"
      ]
    },
    {
      "cell_type": "markdown",
      "metadata": {
        "id": "HCvR206YMvLK"
      },
      "source": [
        "7. (3б). Продемонструйте різницю між isinstance та issubclass."
      ]
    },
    {
      "cell_type": "code",
      "execution_count": 13,
      "metadata": {
        "id": "L_V1bBvDM0GN"
      },
      "outputs": [
        {
          "name": "stdout",
          "output_type": "stream",
          "text": [
            "True\n",
            "True\n",
            "True\n",
            "False\n",
            "True\n",
            "True\n",
            "False\n",
            "True\n"
          ]
        }
      ],
      "source": [
        "# Функція `isinstance(object, classinfo)` використовується для перевірки, чи є об'єкт екземпляром класу або підкласу.\n",
        "class Animal:\n",
        "    pass\n",
        "\n",
        "class Dog(Animal):\n",
        "    pass\n",
        "\n",
        "dog = Dog()\n",
        "\n",
        "# Перевіряємо, чи є dog екземпляром класу Dog\n",
        "print(isinstance(dog, Dog))     # Виведе: True\n",
        "\n",
        "# Перевіряємо, чи є dog екземпляром класу Animal\n",
        "print(isinstance(dog, Animal))   # Виведе: True\n",
        "\n",
        "# Перевіряємо, чи є dog екземпляром класу object\n",
        "print(isinstance(dog, object))   # Виведе: True\n",
        "\n",
        "# Перевіряємо, чи є dog екземпляром класу str\n",
        "print(isinstance(dog, str))      # Виведе: False\n",
        "\n",
        "# Функція `issubclass(class, classinfo)` перевіряє, чи є клас підкласом вказаного класу або одного з його батьківських класів.\n",
        "\n",
        "class Animal:\n",
        "    pass\n",
        "\n",
        "class Dog(Animal):\n",
        "    pass\n",
        "\n",
        "class Cat(Animal):\n",
        "    pass\n",
        "\n",
        "# Перевіряємо, чи є Dog підкласом Animal\n",
        "print(issubclass(Dog, Animal))   # Виведе: True\n",
        "\n",
        "# Перевіряємо, чи є Cat підкласом Animal\n",
        "print(issubclass(Cat, Animal))    # Виведе: True\n",
        "\n",
        "# Перевіряємо, чи є Dog підкласом Cat\n",
        "print(issubclass(Dog, Cat))       # Виведе: False\n",
        "\n",
        "# Перевіряємо, чи є Dog підкласом самого себе\n",
        "print(issubclass(Dog, Dog))       # Виведе: True\n"
      ]
    },
    {
      "cell_type": "markdown",
      "metadata": {
        "id": "jjsaBZ-iM0Qq"
      },
      "source": [
        "8. (13б). Створіть клас EWallet з приватними атрибутами balance та id. Реалізуйте методи поповнення та зняття коштів, забезпечивши належну інкапсуляцію. Підказка: використовуйте декоратори property та setter."
      ]
    },
    {
      "cell_type": "code",
      "execution_count": null,
      "metadata": {},
      "outputs": [],
      "source": []
    },
    {
      "cell_type": "code",
      "execution_count": 17,
      "metadata": {},
      "outputs": [
        {
          "name": "stdout",
          "output_type": "stream",
          "text": [
            "Гаманець поповнено на 200. Поточний баланс: 200.\n",
            "50 знято з гаманця. Поточний баланс: 150.\n",
            "Недостатньо коштів для зняття.\n",
            "Баланс гаманця: 150\n"
          ]
        }
      ],
      "source": [
        "class EWallet:\n",
        "    def __init__(self, wallet_id):\n",
        "        self.__id = wallet_id  \n",
        "        self.__balance = 0 \n",
        "\n",
        "    @property\n",
        "    def balance(self):\n",
        "        \"\"\"Getter для атрибуту balance.\"\"\"\n",
        "        return self.__balance\n",
        "\n",
        "    @property\n",
        "    def id(self):\n",
        "        \"\"\"Getter для атрибуту id.\"\"\"\n",
        "        return self.__id\n",
        "\n",
        "    def top_up(self, amount):\n",
        "        \"\"\"Метод для поповнення електронного гаманця.\"\"\"\n",
        "        if amount > 0:\n",
        "            self.__balance += amount\n",
        "            print(f\"Гаманець поповнено на {amount}. Поточний баланс: {self.__balance}.\")\n",
        "        else:\n",
        "            print(\"Сума поповнення повинна бути позитивною.\")\n",
        "\n",
        "    def withdraw(self, amount):\n",
        "        \"\"\"Метод для зняття коштів з електронного гаманця.\"\"\"\n",
        "        if 0 < amount <= self.__balance:\n",
        "            self.__balance -= amount\n",
        "            print(f\"{amount} знято з гаманця. Поточний баланс: {self.__balance}.\")\n",
        "        elif amount > self.__balance:\n",
        "            print(\"Недостатньо коштів для зняття.\")\n",
        "        else:\n",
        "            print(\"Сума зняття повинна бути позитивною.\")\n",
        "\n",
        "    @balance.setter\n",
        "    def balance(self, amount):\n",
        "        \"\"\"Setter для атрибуту balance - зазвичай унеможливлено.\"\"\"\n",
        "        raise AttributeError(\"Безпосереднє встановлення балансу заборонено.\")\n",
        "\n",
        "# Приклад\n",
        "ewallet = EWallet(wallet_id=\"123456\")\n",
        "ewallet.top_up(200)   \n",
        "ewallet.withdraw(50) \n",
        "ewallet.withdraw(300)\n",
        "print(f\"Баланс гаманця: {ewallet.balance}\") \n",
        "\n"
      ]
    },
    {
      "cell_type": "code",
      "execution_count": null,
      "metadata": {
        "id": "xCvZ7lh8M7YA"
      },
      "outputs": [],
      "source": []
    },
    {
      "cell_type": "markdown",
      "metadata": {
        "id": "tIzL2SJTM8ft"
      },
      "source": [
        "9. (11б). Створіть клас ShoppingCart, який містить список об'єктів типу Item. Реалізуйте методи для додавання айтемів, їх видалення та відображення списку айтемів."
      ]
    },
    {
      "cell_type": "code",
      "execution_count": 20,
      "metadata": {
        "id": "HWxfJKLtNAUZ"
      },
      "outputs": [
        {
          "name": "stdout",
          "output_type": "stream",
          "text": [
            "Dress додано до кошика.\n",
            "Hat додано до кошика.\n",
            "Skirt додано до кошика.\n",
            "Ваш кошик:\n",
            "Dress - 500.00\n",
            "Hat - 200.00\n",
            "Skirt - 390.00\n",
            "Товар з ім'ям 'Phone' не знайдено.\n",
            "Ваш кошик:\n",
            "Dress - 500.00\n",
            "Hat - 200.00\n",
            "Skirt - 390.00\n",
            "Товар з ім'ям 'Tablet' не знайдено.\n"
          ]
        }
      ],
      "source": [
        "class Item:\n",
        "    def __init__(self, name, price):\n",
        "        self.name = name\n",
        "        self.price = price\n",
        "\n",
        "    def __str__(self):\n",
        "        return f\"{self.name} - {self.price:.2f}\"\n",
        "\n",
        "class ShoppingCart:\n",
        "    def __init__(self):\n",
        "        self.items = []\n",
        "\n",
        "    def add_item(self, item):\n",
        "        \"\"\"Додає айтем до кошика\"\"\"\n",
        "        self.items.append(item)\n",
        "        print(f\"{item.name} додано до кошика.\")\n",
        "\n",
        "    def remove_item(self, item_name):\n",
        "        \"\"\"Видаляє айтем з кошика за ім'ям\"\"\"\n",
        "        for item in self.items:\n",
        "            if item.name == item_name:\n",
        "                self.items.remove(item)\n",
        "                print(f\"{item.name} видалено з кошика.\")\n",
        "                return\n",
        "        print(f\"Товар з ім'ям '{item_name}' не знайдено.\")\n",
        "\n",
        "    def display_items(self):\n",
        "        \"\"\"Виводить список всіх айтемів у кошику\"\"\"\n",
        "        if self.items:\n",
        "            print(\"Ваш кошик:\")\n",
        "            for item in self.items:\n",
        "                print(item)\n",
        "        else:\n",
        "            print(\"Ваш кошик порожній.\")\n",
        "\n",
        "item1 = Item(\"Dress\", 500)\n",
        "item2 = Item(\"Hat\", 200)\n",
        "item3 = Item(\"Skirt\", 390)\n",
        "\n",
        "cart = ShoppingCart()\n",
        "cart.add_item(item1)\n",
        "cart.add_item(item2)\n",
        "cart.add_item(item3)\n",
        "cart.display_items()\n",
        "\n",
        "cart.remove_item(\"Phone\")\n",
        "cart.display_items()\n",
        "cart.remove_item(\"Tablet\")\n"
      ]
    },
    {
      "cell_type": "markdown",
      "metadata": {
        "id": "lmV8pAwwNIqu"
      },
      "source": [
        "10. (13б). Створіть клас Vehicle з атрибутами brand (manufacturer) та production_age. Створіть ще один клас Engine з такими атрибутами, як type (ex. petrol) та size (volume, litres). Створіть клас Car, який успадковує обидва класи Vehicle та Engine. Продемонструйте використання множинної спадковості, створивши обʼєкт класу Car та отримавши mro для цього класу."
      ]
    },
    {
      "cell_type": "code",
      "execution_count": 22,
      "metadata": {
        "id": "R49grKlWNPeN"
      },
      "outputs": [
        {
          "name": "stdout",
          "output_type": "stream",
          "text": [
            "Vehicle Brand: BMW, Production Age: 7 years, Engine Type: Diesel, Size: 10.7 litres\n",
            "MRO for Car: (<class '__main__.Car'>, <class '__main__.Vehicle'>, <class '__main__.Engine'>, <class 'object'>)\n"
          ]
        }
      ],
      "source": [
        "class Vehicle:\n",
        "    def __init__(self, brand, production_age):\n",
        "        self.brand = brand  \n",
        "        self.production_age = production_age  \n",
        "\n",
        "    def info(self):\n",
        "        \"\"\"Метод для повернення інформації про транспортний засіб.\"\"\"\n",
        "        return f\"Vehicle Brand: {self.brand}, Production Age: {self.production_age} years\"\n",
        "\n",
        "\n",
        "class Engine:\n",
        "    def __init__(self, engine_type, size):\n",
        "        self.engine_type = engine_type  \n",
        "        self.size = size\n",
        "\n",
        "    def engine_info(self):\n",
        "        \"\"\"Метод для повернення інформації про двигун.\"\"\"\n",
        "        return f\"Engine Type: {self.engine_type}, Size: {self.size} litres\"\n",
        "\n",
        "\n",
        "class Car(Vehicle, Engine):\n",
        "    def __init__(self, brand, production_age, engine_type, size):\n",
        "        Vehicle.__init__(self, brand, production_age)  \n",
        "        Engine.__init__(self, engine_type, size) \n",
        "\n",
        "    def full_info(self):\n",
        "        \"\"\"Метод для повернення повної інформації про автомобіль.\"\"\"\n",
        "        vehicle_info = self.info()\n",
        "        engine_info = self.engine_info()\n",
        "        return f\"{vehicle_info}, {engine_info}\"\n",
        "\n",
        "\n",
        "my_car = Car(brand=\"BMW\", production_age= 7, engine_type=\"Diesel\", size=10.7)\n",
        "print(my_car.full_info())\n",
        "print(\"MRO for Car:\", Car.__mro__)\n"
      ]
    },
    {
      "cell_type": "markdown",
      "metadata": {
        "id": "dIJyUiNBFG8G"
      },
      "source": [
        "# II. Iterator"
      ]
    },
    {
      "cell_type": "markdown",
      "metadata": {
        "id": "13vsm0NyKIzL"
      },
      "source": [
        "11. (4б). Визначте рядок(str) з 4ма різними за значенням символами. Створіть ітератор на основі цього рядка. Викличте 5 разів функцію next на ітераторі, 4ри перших з них огорніть у ф-цію print()."
      ]
    },
    {
      "cell_type": "code",
      "execution_count": 26,
      "metadata": {
        "id": "81ntabAkKuz-"
      },
      "outputs": [
        {
          "name": "stdout",
          "output_type": "stream",
          "text": [
            "a\n",
            "b\n",
            "c\n",
            "d\n"
          ]
        },
        {
          "ename": "StopIteration",
          "evalue": "",
          "output_type": "error",
          "traceback": [
            "\u001b[31m---------------------------------------------------------------------------\u001b[39m",
            "\u001b[31mStopIteration\u001b[39m                             Traceback (most recent call last)",
            "\u001b[36mCell\u001b[39m\u001b[36m \u001b[39m\u001b[32mIn[26]\u001b[39m\u001b[32m, line 9\u001b[39m\n\u001b[32m      6\u001b[39m \u001b[38;5;28mprint\u001b[39m(\u001b[38;5;28mnext\u001b[39m(iterator))\n\u001b[32m      7\u001b[39m \u001b[38;5;28mprint\u001b[39m(\u001b[38;5;28mnext\u001b[39m(iterator))\n\u001b[32m----> \u001b[39m\u001b[32m9\u001b[39m \u001b[38;5;28;43mnext\u001b[39;49m\u001b[43m(\u001b[49m\u001b[43miterator\u001b[49m\u001b[43m)\u001b[49m\n",
            "\u001b[31mStopIteration\u001b[39m: "
          ]
        }
      ],
      "source": [
        "my_string = \"abcd\"\n",
        "iterator = iter(my_string)\n",
        "\n",
        "print(next(iterator))\n",
        "print(next(iterator))\n",
        "print(next(iterator))\n",
        "print(next(iterator))\n",
        "\n",
        "next(iterator)\n"
      ]
    },
    {
      "cell_type": "markdown",
      "metadata": {
        "id": "aekWHGXOLRsO"
      },
      "source": [
        "А що якщо викликати цю ж функцію на рядку?"
      ]
    },
    {
      "cell_type": "code",
      "execution_count": 27,
      "metadata": {
        "id": "mxATGsErLV1i"
      },
      "outputs": [
        {
          "ename": "TypeError",
          "evalue": "'str' object is not an iterator",
          "output_type": "error",
          "traceback": [
            "\u001b[31m---------------------------------------------------------------------------\u001b[39m",
            "\u001b[31mTypeError\u001b[39m                                 Traceback (most recent call last)",
            "\u001b[36mCell\u001b[39m\u001b[36m \u001b[39m\u001b[32mIn[27]\u001b[39m\u001b[32m, line 1\u001b[39m\n\u001b[32m----> \u001b[39m\u001b[32m1\u001b[39m \u001b[38;5;28;43mnext\u001b[39;49m\u001b[43m(\u001b[49m\u001b[43mmy_string\u001b[49m\u001b[43m)\u001b[49m\n",
            "\u001b[31mTypeError\u001b[39m: 'str' object is not an iterator"
          ]
        }
      ],
      "source": [
        "next(my_string)\n"
      ]
    },
    {
      "cell_type": "markdown",
      "metadata": {
        "id": "XwtMEopwJ4pH"
      },
      "source": [
        " 12. (5б). Опишіть своїми словами в одному реченні, як ви розумієте різницю між ітерабельними обʼєктами та ітераторами (можна на прикладі)."
      ]
    },
    {
      "cell_type": "markdown",
      "metadata": {
        "id": "-sHrODc3KFn8"
      },
      "source": [
        "Ітерабельні обʼєкти, такі як списки або множини, можуть бути використані для створення ітераторів (обʼєктів, що реалізують методи `__iter__` та `__next__`), які дозволяють послідовно перебирати елементи цих обʼєктів; наприклад, список `[1, 2, 3]` є ітерабельним обʼєктом, а ітератор, отриманий з нього через `iter()`, дозволяє по черзі отримувати елементи `1`, `2`, `3` за допомогою виклику `next()`."
      ]
    },
    {
      "cell_type": "markdown",
      "metadata": {
        "id": "E9qJWmNbK8Gl"
      },
      "source": [
        "13. (11б). Створіть клас, що має визначений Iterator Protocol та при кожному виклику next повертає назву дня тижня, поки вони не вичерпаються. Зверніть увагу, що порядок має значення."
      ]
    },
    {
      "cell_type": "code",
      "execution_count": 29,
      "metadata": {
        "id": "cqx-g_RsLo6I"
      },
      "outputs": [
        {
          "name": "stdout",
          "output_type": "stream",
          "text": [
            "Понеділок\n",
            "Вівторок\n",
            "Середа\n",
            "Четвер\n",
            "П'ятниця\n",
            "Субота\n",
            "Неділя\n"
          ]
        }
      ],
      "source": [
        "class WeekdayIterator:\n",
        "    def __init__(self):\n",
        "        self.days = [\n",
        "            \"Понеділок\",\n",
        "            \"Вівторок\",\n",
        "            \"Середа\",\n",
        "            \"Четвер\",\n",
        "            \"П'ятниця\",\n",
        "            \"Субота\",\n",
        "            \"Неділя\"\n",
        "        ]\n",
        "        self.index = 0\n",
        "\n",
        "    def __iter__(self):\n",
        "        return self\n",
        "\n",
        "    def __next__(self):\n",
        "        if self.index < len(self.days):\n",
        "            day = self.days[self.index]\n",
        "            self.index += 1\n",
        "            return day\n",
        "        else:\n",
        "            raise StopIteration\n",
        "\n",
        "\n",
        "weekday_iterator = WeekdayIterator()\n",
        "\n",
        "for day in weekday_iterator:\n",
        "    print(day)\n"
      ]
    },
    {
      "cell_type": "markdown",
      "metadata": {
        "id": "Z3E3S_s1Fv7-"
      },
      "source": [
        "# Вітаю! Ви велика(ий) молодець, що впоралась(вся). Похваліть себе та побалуйте чимось приємним. Я Вами пишаюся."
      ]
    }
  ],
  "metadata": {
    "colab": {
      "provenance": []
    },
    "kernelspec": {
      "display_name": "Python 3",
      "name": "python3"
    },
    "language_info": {
      "codemirror_mode": {
        "name": "ipython",
        "version": 3
      },
      "file_extension": ".py",
      "mimetype": "text/x-python",
      "name": "python",
      "nbconvert_exporter": "python",
      "pygments_lexer": "ipython3",
      "version": "3.13.2"
    }
  },
  "nbformat": 4,
  "nbformat_minor": 0
}
